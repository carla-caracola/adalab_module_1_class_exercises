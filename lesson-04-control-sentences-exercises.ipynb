{
 "cells": [
  {
   "cell_type": "markdown",
   "metadata": {},
   "source": [
    "-----------\n",
    "\n",
    "# Ejercicios  \n",
    "\n",
    "1. Crea las siguientes variables:\n",
    "\n",
    "  - `var1` sea un número con el valor `8`.\n",
    "\n",
    "  - `var2` sea un número con el valor `2`.\n",
    "\n",
    "  - `var3` sea un número con el valor `8`.\n",
    "\n",
    "2. Comprueba si `var1` es mayor que 6, y si es así imprime `¡Es enorme!`.\n",
    "\n",
    "3. Comprueba si `var2` es mayor que 6, y si es así imprime `¡Es enorme también!`.\n",
    "\n",
    "4. Comprueba si `var3` es mayor que 6, y si es así imprime `¡Es enorme!` seguido por `¡Pero de verdad!` en otra línea (deberéis tener dos *print*).\n",
    "\n",
    "5. Comprueba si `var1` es igual que `var3`, y si es así imprime `Son iguales.`.\n",
    "\n",
    "6. Comprueba si `var1` es igual que `var2`, y si es así imprime `Son iguales.`\n",
    "\n",
    "7. Comprueba si `var1` es mayor o igual que `var2`, y si es así calcula la diferencia entre `var1` y `var2`, guardala en la variable `dif`, e imprime `'La diferencia es',dif`. \n",
    "\n",
    "8. Comprueba si `var1` es mayor que 6, y si es así imprime `¡Es enorme!`. Si no es así imprime `Es chiquitín.`.\n",
    "\n",
    "9. Comprueba si `var2` es mayor que 6, y si es así imprime `¡Es enorme también!`. Si no es así imprime `Es chiquitín también.`.\n",
    "\n",
    "10. Comprueba si `var1` es igual a `var3`, y si es así imprime `Son iguales.` Si no es así imprime `Son distintos.`\n",
    "\n",
    "11. Escribe un programa para una empresa que tiene salas de juegos para todas las edades y quiere calcular de forma automática el precio que debe cobrar a sus clientes por entrar. El programa debe preguntar al usuario:\n",
    "\n",
    "    - La edad del cliente. \n",
    "    - Las condiciones que tendremos que chequear: \n",
    "\n",
    "      - Si el cliente es menor de 4 años puede entrar gratis, \n",
    "\n",
    "      - Si tiene entre 4 y 18 años debe pagar 5€ y \n",
    "\n",
    "      - Si es mayor de 18 años, 10€.\n",
    "\n",
    "\n",
    "12. Inicia la varible `ahorros` con un valor de `5`. Crea un bucle while que mientras los ahorros sean igual o menor que `20` imprima por pantalla la cantidad de ahorros que tenemos, y añádele `5` más. Cuando la variable ahorros supere el valor de 20 el bucle deberá parar. \n",
    "\n",
    "13. Escribe un programa que convierta grados Celsius a grados Fahrenheit o viceversa, según la elección del usuario. Para eso tendrás que preguntar: \n",
    "\n",
    "  - Desde que unidades va a convertir la temperatura, Celsius o Fahrenheit. \n",
    "\n",
    "  - Cuál es valor de la temperatura que quiere convertir. \n",
    "\n",
    "14.  Crea un programa que calcule el impuesto sobre la renta de una persona basado en su ingreso anual y su estado civil (soltero o casado). Para eso deberás: \n",
    "\n",
    "  - Solicitar al usuario su ingreso anual.\n",
    "\n",
    "  - Preguntar al usuario su estado civil, permitiendo dos opciones: \"soltero\" (S) o \"casado\" (C).\n",
    "\n",
    "  - Calcular el impuesto sobre la renta utilizando las siguientes reglas:\n",
    "\n",
    "    - Si el estado civil es \"soltero\" (S):\n",
    "\n",
    "      - Si el ingreso anual es menor o igual a $9,875, el impuesto es el 10% del ingreso anual.\n",
    "\n",
    "      - Si el ingreso anual está entre $9,876 y $40,125, el impuesto es el 10% de los primeros $9,875 más el 12% de la cantidad que excede los $9,875.\n",
    "     \n",
    "\n",
    "    - Si el estado civil es \"casado\" (C):\n",
    "    \n",
    "      - Si el ingreso anual es menor o igual a $19,850, el impuesto es el 10% del ingreso anual.\n",
    "\n",
    "      - Si el ingreso anual está entre $19,851 y $80,250, el impuesto es el 10% de los primeros $19,850 más el 12% de la cantidad que excede los $19,850.\n",
    "\n",
    "15. Crea un programa que evalúe el nivel de contaminación del aire en función de la concentración de partículas en suspensión (PM2.5) en microgramos por metro cúbico (µg/m³). Para eso deberás: \n",
    "\n",
    "  - Solicita al usuario que ingrese la concentración de PM2.5 en el aire en µg/m³. El usuario debe ingresar un valor numérico.\n",
    "\n",
    "  - Evalua el nivel de contaminación del aire según la siguiente escala:\n",
    "\n",
    "    - Si la concentración de PM2.5 es menor o igual a 12 µg/m³, el aire se considera \"Excelente\".\n",
    "\n",
    "    - Si la concentración de PM2.5 está entre 13 µg/m³ y 35 µg/m³, el aire se considera \"Bueno\".\n",
    "\n",
    "    - Si la concentración de PM2.5 está entre 36 µg/m³ y 55 µg/m³, el aire se considera \"Aceptable\".\n",
    "\n",
    "    - Si la concentración de PM2.5 está entre 56 µg/m³ y 150 µg/m³, el aire se considera \"No Saludable para Grupos Sensibles\".\n",
    "\n",
    "    - Si la concentración de PM2.5 es mayor a 150 µg/m³, el aire se considera \"No Saludable\".\n",
    "\n",
    "  - Muestra un mensaje indicando el estado de la calidad del aire. Por ejemplo, si la concentración de PM2.5 es 25 µg/m³, el programa debe mostrar: \"La calidad del aire es Buena\".\n",
    "\n",
    "  -  Además, si la concentración de PM2.5 está en la categoría \"No Saludable para Grupos Sensibles\" o \"No Saludable\", el programa debe advertir al usuario sobre los posibles efectos en la salud.\n",
    "\n",
    "  - Si la concentración ingresada por el usuario es negativa o no es un número válido, el programa debe mostrar un mensaje de error."
   ]
  },
  {
   "cell_type": "code",
   "execution_count": 8,
   "metadata": {},
   "outputs": [
    {
     "name": "stdout",
     "output_type": "stream",
     "text": [
      "It's huge\n",
      "It's huge!\n",
      "But for real!\n",
      "They are the same!\n",
      "the difference is 6\n"
     ]
    }
   ],
   "source": [
    "# Exercise 1\n",
    "\n",
    "var1 = 8\n",
    "var2 = 2\n",
    "var3 = 8\n",
    "\n",
    "# Exercise 2\n",
    "\n",
    "if var1 > 6:\n",
    "    print(\"It's huge\")\n",
    "\n",
    "\n",
    "# Exercise 3\n",
    "\n",
    "if var2 > 6:\n",
    "    print(\"It's also huge\")\n",
    "\n",
    "# Exercise 4\n",
    "\n",
    "if var3 > 6:\n",
    "    print(\"It's huge!\\nBut for real!\")\n",
    "\n",
    "# Exercise 5\n",
    "\n",
    "if var1 == var3:\n",
    "    print(\"They are the same!\")\n",
    "\n",
    "# Exercise 6\n",
    "\n",
    "if var1 == var2:\n",
    "    print(\"They are the same!\")\n",
    "\n",
    "# Exercise 7\n",
    "\n",
    "if var1 > var2:\n",
    "    dif = var1 - var2\n",
    "    print (\"The difference is\",dif)\n",
    "          \n",
    "          "
   ]
  },
  {
   "cell_type": "code",
   "execution_count": 13,
   "metadata": {},
   "outputs": [
    {
     "name": "stdout",
     "output_type": "stream",
     "text": [
      "It's 10 euros, please.\n"
     ]
    }
   ],
   "source": [
    "# Exercise 11\n",
    "\n",
    "age = int(input(\"What's your age?\"))\n",
    "\n",
    "if age < 4:\n",
    "    print(\"You don't need to pay.\")\n",
    "elif 4 <= age <= 18:\n",
    "    print(\"It's 5 euros, please.\")\n",
    "else:\n",
    "    print (\"It's 10 euros, please.\")\n",
    "\n"
   ]
  },
  {
   "cell_type": "code",
   "execution_count": 15,
   "metadata": {},
   "outputs": [
    {
     "name": "stdout",
     "output_type": "stream",
     "text": [
      "Your savings are 0.\n",
      "Your savings are 5.\n",
      "Your savings are 10.\n",
      "Your savings are 15.\n",
      "Your savings are 20.\n"
     ]
    }
   ],
   "source": [
    "# Exercise 12\n",
    "\n",
    "savings = 0\n",
    "\n",
    "while savings <= 20:\n",
    "    print (f\"Your savings are {savings}.\")\n",
    "    savings += 5"
   ]
  },
  {
   "cell_type": "code",
   "execution_count": 22,
   "metadata": {},
   "outputs": [
    {
     "name": "stdout",
     "output_type": "stream",
     "text": [
      "30°C are equivalent to 86.0°F\n"
     ]
    }
   ],
   "source": [
    "# Exercise 13   // f = c × 1.8 + 32.\n",
    "\n",
    "celcius = 0\n",
    "fahrenheit = 0\n",
    "convert_from = input (\"From which unit you want to convert? Type Celcius or Fahrenheit.\\n\").lower()\n",
    "\n",
    "if convert_from == \"celcius\":\n",
    "    celcius = int (input(\"please enter the temperature in °Celcius:\\n\"))\n",
    "    fahrenheit = celcius * 1.8 + 32\n",
    "    print (f\"{celcius}°C are equivalent to {fahrenheit}°F\")\n",
    "elif convert_from == \"fahrenheit\":\n",
    "    celcius = (fahrenheit - 32) / 1.8\n",
    "    print (f\"{fahrenheit}°F are equivalent to {celcius}°C\")\n",
    "else:\n",
    "    print (\"please type Celcius or Fahrenheit.\")\n"
   ]
  },
  {
   "cell_type": "code",
   "execution_count": null,
   "metadata": {},
   "outputs": [],
   "source": []
  }
 ],
 "metadata": {
  "colab": {
   "collapsed_sections": [],
   "name": "02-boolean-statements.ipynb",
   "provenance": [
    {
     "file_id": "1lHGdy-osjs1puGjGpU1iU_FN0RFd80om",
     "timestamp": 1639470758251
    }
   ]
  },
  "kernelspec": {
   "display_name": "Python 3 (ipykernel)",
   "language": "python",
   "name": "python3"
  },
  "language_info": {
   "codemirror_mode": {
    "name": "ipython",
    "version": 3
   },
   "file_extension": ".py",
   "mimetype": "text/x-python",
   "name": "python",
   "nbconvert_exporter": "python",
   "pygments_lexer": "ipython3",
   "version": "3.11.9"
  },
  "toc": {
   "base_numbering": 1,
   "nav_menu": {},
   "number_sections": true,
   "sideBar": true,
   "skip_h1_title": false,
   "title_cell": "Table of Contents",
   "title_sidebar": "Contents",
   "toc_cell": true,
   "toc_position": {
    "height": "calc(100% - 180px)",
    "left": "10px",
    "top": "150px",
    "width": "307.2px"
   },
   "toc_section_display": true,
   "toc_window_display": true
  },
  "vscode": {
   "interpreter": {
    "hash": "31f2aee4e71d21fbe5cf8b01ff0e069b9275f58929596ceb00d14d90e3e16cd6"
   }
  }
 },
 "nbformat": 4,
 "nbformat_minor": 1
}
