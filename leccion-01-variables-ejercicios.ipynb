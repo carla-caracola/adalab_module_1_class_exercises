{
 "cells": [
  {
   "cell_type": "markdown",
   "metadata": {},
   "source": [
    "------------------\n",
    "# Ejercicios de la leccion Variables\n",
    "\n",
    "1. Crea la variable `gatos` que sea un número con el valor `8`.\n",
    "\n",
    "2. Crea la variable `perros`  que sea un texto de seis caracteres: la palabra `cuatro`.\n",
    "\n",
    "3. Imprime la variable `gatos`.\n",
    "\n",
    "4. Imprime la variable `perros`.\n",
    "\n",
    "5. Imprime la variable `perros` seguida por la palabra `más` y la palabra `perros` otra vez.\n",
    "\n",
    "6. Consigue que el ordenador devuelva el siguiente texto, usando la variable `perros`: `cuatro más cuatro es igual a 8`.\n",
    "\n",
    "7. Consigue que el ordenador devuelva el siguiente texto, usando la variable`perros`: `cuatro + cuatro = 8`.\n",
    "\n",
    "8. Define una variable `pizzas` con un valor `2` que sea del tipo float.\n",
    "\n",
    "9. Define `magdalenas` con un valor `2` que sea del tipo string.\n",
    "\n",
    "10. Define `postres` con un valor `0` que sea del tipo int.\n",
    "\n",
    "11. ¿Qué tipo de dato es la variable `pizzas`?\n",
    "  \n",
    "12. ¿Es la variable `magdalenas` de tipo string?\n",
    "\n",
    "13. Define `postres` con un valor `0`.\n",
    "\n",
    "14. Calcula la suma de `gatos` y `pizzas`.\n",
    "\n",
    "15. Calcula la diferencia entre `gatos` y `pizzas`.\n",
    "\n",
    "16. Multiplica las cantidad de gatos por 2.\n",
    "\n",
    "17. Crea una variable `piezas` que sea 8 veces la cantidad de `pizzas`.\n",
    "\n",
    "18. Haz que la cantidad de `piezas` se aumente en 3.\n",
    "\n",
    "19. Calcula el cuadrado de 9 y guárdalo en una variable llamada `superficie`.\n",
    "\n",
    "20. ¿Cuánta superficie hay por gato?\n",
    "\n",
    "21. ¿Cuántas piezas enteras hay por gato?\n",
    "\n",
    "22. ¿Cuántas piezas te quedan si cada gato se come 21 piezas?\n",
    "\n",
    "\n",
    "23. ¿Cuánta superficie hay por gato en metros cuadrados? Redondeala a un sólo decimal. Intenta calcularlo dentro del mismo `print()` en una sola línea.\n",
    "\n",
    "24. ¿Es verdad que hay más gatos que pizzas?\n",
    "\n",
    "25. ¿Es verdad que hay menos gatos que superficie?\n",
    "\n",
    "26. ¿Es verdad que 2 veces la cantidad de pizzas es distinto de la cantidad de gatos?\n",
    "\n",
    "27. ¿Es falso que 2 veces la cantidad de pizzas es igual a la cantidad de gatos?\n",
    "\n",
    "28. La variable `piezas`, es mayor o igual a `pizzas` y `superficie` es distinto de cero?\n",
    "\n",
    "29. La variable `piezas`, es mayor o igual a `pizzas` y menor que `superficie`?\n",
    "\n",
    "30. Me interesa saber si hay más pizzas que gatos, o si el residuo de piezas por gato es cero.\n",
    "\n",
    "31. Comprueba las comparaciones de 29. en una sola línea, sin usar la variable `piezas` más que una sola vez.\n",
    "\n",
    "32. Comprueba si `superficie` es diferente a cero sin usar `!=`.\n",
    "\n",
    "33. Usa `input()` para preguntar a un usuario el día de su cumpleaños y guarda la respuesta en la variable dia_cumple.\n",
    "\n",
    "34. Usa `input()` para preguntar a un usuario el mes de su cumpleaños y guarda la respuesta en la variable mes_cumple.\n",
    "\n",
    "\n",
    "35. Usa `.strip()` en ambas de las variables definidas.\n",
    "\n",
    "36. Haz que `fecha_cumple` sea un *string* compuesto por el día y el mes.\n",
    "\n",
    "37. Imprime `Fecha de cumpleaños es` más el día y el mes.\n",
    "  \n",
    "38. Imprime la variable perros en todas mayúsculas.\n"
   ]
  },
  {
   "cell_type": "code",
   "execution_count": 3,
   "metadata": {},
   "outputs": [],
   "source": [
    "#Exercise 1\n",
    "\n",
    "gatos = 8\n"
   ]
  },
  {
   "cell_type": "code",
   "execution_count": 4,
   "metadata": {},
   "outputs": [],
   "source": [
    "#Exercise 2\n",
    "\n",
    "perros = \"cuatro\""
   ]
  },
  {
   "cell_type": "code",
   "execution_count": 5,
   "metadata": {},
   "outputs": [
    {
     "name": "stdout",
     "output_type": "stream",
     "text": [
      "8\n"
     ]
    }
   ],
   "source": [
    "#Exercise 3\n",
    "\n",
    "print (gatos)"
   ]
  },
  {
   "cell_type": "code",
   "execution_count": 6,
   "metadata": {},
   "outputs": [
    {
     "name": "stdout",
     "output_type": "stream",
     "text": [
      "cuatro\n"
     ]
    }
   ],
   "source": [
    "#Exercise 4 \n",
    "\n",
    "print (perros)"
   ]
  },
  {
   "cell_type": "code",
   "execution_count": 7,
   "metadata": {},
   "outputs": [
    {
     "name": "stdout",
     "output_type": "stream",
     "text": [
      "cuatro + cuatro\n"
     ]
    }
   ],
   "source": [
    "#Exercise 5\n",
    "\n",
    "print (perros, \"+\", perros)\n"
   ]
  },
  {
   "cell_type": "code",
   "execution_count": 8,
   "metadata": {},
   "outputs": [
    {
     "name": "stdout",
     "output_type": "stream",
     "text": [
      "cuatro + cuatro es igual a 8\n"
     ]
    }
   ],
   "source": [
    "#Exercise 6\n",
    "\n",
    "print (perros, \"+\", perros, \"es igual a\", gatos)"
   ]
  },
  {
   "cell_type": "code",
   "execution_count": 9,
   "metadata": {},
   "outputs": [
    {
     "name": "stdout",
     "output_type": "stream",
     "text": [
      "cuatro + cuatro = 8\n"
     ]
    }
   ],
   "source": [
    "#Exercise 7\n",
    "print (perros, \"+\", perros, \"=\", gatos)"
   ]
  },
  {
   "cell_type": "code",
   "execution_count": 10,
   "metadata": {},
   "outputs": [
    {
     "name": "stdout",
     "output_type": "stream",
     "text": [
      "<class 'float'>\n"
     ]
    }
   ],
   "source": [
    "#Exercise 8 and 11\n",
    "\n",
    "pizzas = float (2)\n",
    "\n",
    "print (type(pizzas))"
   ]
  },
  {
   "cell_type": "code",
   "execution_count": 11,
   "metadata": {},
   "outputs": [
    {
     "name": "stdout",
     "output_type": "stream",
     "text": [
      "<class 'str'>\n"
     ]
    }
   ],
   "source": [
    "#Exercise 9 and 12\n",
    "\n",
    "madalenas = \"2\"\n",
    "\n",
    "print (type(madalenas))"
   ]
  },
  {
   "cell_type": "code",
   "execution_count": 12,
   "metadata": {},
   "outputs": [
    {
     "name": "stdout",
     "output_type": "stream",
     "text": [
      "<class 'int'>\n"
     ]
    }
   ],
   "source": [
    "#Exercise 10\n",
    "\n",
    "postres = 0\n",
    "\n",
    "print (type(postres))"
   ]
  },
  {
   "cell_type": "code",
   "execution_count": 13,
   "metadata": {},
   "outputs": [],
   "source": [
    "#Exercise 13\n",
    "\n",
    "postres = 0"
   ]
  },
  {
   "cell_type": "code",
   "execution_count": 14,
   "metadata": {},
   "outputs": [
    {
     "name": "stdout",
     "output_type": "stream",
     "text": [
      "10.0\n"
     ]
    }
   ],
   "source": [
    "#Exercise 14\n",
    "\n",
    "sum_gatos_y_pizzas = gatos + pizzas\n",
    "\n",
    "print (sum_gatos_y_pizzas)"
   ]
  },
  {
   "cell_type": "code",
   "execution_count": 15,
   "metadata": {},
   "outputs": [
    {
     "name": "stdout",
     "output_type": "stream",
     "text": [
      "6.0\n"
     ]
    }
   ],
   "source": [
    "#Exercise 15\n",
    "\n",
    "dif_gatos_y_pizzas = gatos - pizzas\n",
    "\n",
    "print (dif_gatos_y_pizzas)"
   ]
  },
  {
   "cell_type": "code",
   "execution_count": 16,
   "metadata": {},
   "outputs": [
    {
     "name": "stdout",
     "output_type": "stream",
     "text": [
      "16\n"
     ]
    }
   ],
   "source": [
    "#Exercise 16\n",
    "\n",
    "gatos_x_2 = gatos * 2\n",
    "\n",
    "print (gatos_x_2)"
   ]
  },
  {
   "cell_type": "code",
   "execution_count": 17,
   "metadata": {},
   "outputs": [
    {
     "name": "stdout",
     "output_type": "stream",
     "text": [
      "16.0\n"
     ]
    }
   ],
   "source": [
    "#Exercise 17\n",
    "\n",
    "piezas = pizzas * 8\n",
    "\n",
    "print (piezas)"
   ]
  },
  {
   "cell_type": "code",
   "execution_count": 18,
   "metadata": {},
   "outputs": [
    {
     "name": "stdout",
     "output_type": "stream",
     "text": [
      "19.0\n"
     ]
    }
   ],
   "source": [
    "#Exercise 18\n",
    "\n",
    "piezas += 3\n",
    "\n",
    "print (piezas)"
   ]
  },
  {
   "cell_type": "code",
   "execution_count": 19,
   "metadata": {},
   "outputs": [
    {
     "data": {
      "text/plain": [
       "81"
      ]
     },
     "execution_count": 19,
     "metadata": {},
     "output_type": "execute_result"
    }
   ],
   "source": [
    "#Exercise 19\n",
    "\n",
    "superficie = 9 ** 2\n",
    "\n",
    "superficie"
   ]
  },
  {
   "cell_type": "code",
   "execution_count": 20,
   "metadata": {},
   "outputs": [
    {
     "data": {
      "text/plain": [
       "10.125"
      ]
     },
     "execution_count": 20,
     "metadata": {},
     "output_type": "execute_result"
    }
   ],
   "source": [
    "#Exercise 20\n",
    "\n",
    "superficie_por_gato = superficie / gatos\n",
    "\n",
    "superficie_por_gato"
   ]
  },
  {
   "cell_type": "code",
   "execution_count": 21,
   "metadata": {},
   "outputs": [
    {
     "name": "stdout",
     "output_type": "stream",
     "text": [
      "hay  2  piezas enteras por gato\n"
     ]
    }
   ],
   "source": [
    "#Exercise 21\n",
    "\n",
    "piezas_enteras_por_gato = piezas // gatos\n",
    "\n",
    "print (\"hay \", int (piezas_enteras_por_gato), \" piezas enteras por gato\")"
   ]
  },
  {
   "cell_type": "code",
   "execution_count": 22,
   "metadata": {},
   "outputs": [
    {
     "data": {
      "text/plain": [
       "-149.0"
      ]
     },
     "execution_count": 22,
     "metadata": {},
     "output_type": "execute_result"
    }
   ],
   "source": [
    "#Exercise 22\n",
    "\n",
    "piezas_restantes = piezas - (gatos * 21)\n",
    "\n",
    "piezas_restantes"
   ]
  },
  {
   "cell_type": "code",
   "execution_count": 23,
   "metadata": {},
   "outputs": [
    {
     "name": "stdout",
     "output_type": "stream",
     "text": [
      "hay  10.1 m2 por gato\n"
     ]
    }
   ],
   "source": [
    "#Exercise 23\n",
    "\n",
    "print (\"hay \", round (superficie_por_gato, 1), \"m2 por gato\")"
   ]
  },
  {
   "cell_type": "code",
   "execution_count": 24,
   "metadata": {},
   "outputs": [
    {
     "name": "stdout",
     "output_type": "stream",
     "text": [
      "True\n"
     ]
    }
   ],
   "source": [
    "#Exercise 24\n",
    "\n",
    "print (gatos > pizzas)\n"
   ]
  },
  {
   "cell_type": "code",
   "execution_count": 25,
   "metadata": {},
   "outputs": [
    {
     "name": "stdout",
     "output_type": "stream",
     "text": [
      "True\n"
     ]
    }
   ],
   "source": [
    "#Exercise 25\n",
    "\n",
    "print (gatos < superficie)"
   ]
  },
  {
   "cell_type": "code",
   "execution_count": 26,
   "metadata": {},
   "outputs": [
    {
     "name": "stdout",
     "output_type": "stream",
     "text": [
      "True\n"
     ]
    }
   ],
   "source": [
    "#Exercise 26\n",
    "\n",
    "print ((2 * pizzas) != gatos)"
   ]
  },
  {
   "cell_type": "code",
   "execution_count": 40,
   "metadata": {},
   "outputs": [
    {
     "name": "stdout",
     "output_type": "stream",
     "text": [
      "False\n"
     ]
    }
   ],
   "source": [
    "#Exercise 27\n",
    "\n",
    "print ((2*pizzas) == gatos)\n"
   ]
  },
  {
   "cell_type": "code",
   "execution_count": 28,
   "metadata": {},
   "outputs": [
    {
     "name": "stdout",
     "output_type": "stream",
     "text": [
      "True\n"
     ]
    }
   ],
   "source": [
    "#Exercise 28\n",
    "\n",
    "print (piezas >= pizzas and superficie != 0)"
   ]
  },
  {
   "cell_type": "code",
   "execution_count": 29,
   "metadata": {},
   "outputs": [
    {
     "name": "stdout",
     "output_type": "stream",
     "text": [
      "True\n"
     ]
    }
   ],
   "source": [
    "#Exercise 29\n",
    "print (piezas >= pizzas and piezas < superficie)"
   ]
  },
  {
   "cell_type": "code",
   "execution_count": 30,
   "metadata": {},
   "outputs": [
    {
     "name": "stdout",
     "output_type": "stream",
     "text": [
      "3.0\n",
      "False\n",
      "True\n"
     ]
    }
   ],
   "source": [
    "#Exercise 30\n",
    "print (piezas % gatos)\n",
    "print (pizzas > gatos)\n",
    "print (pizzas > gatos or piezas % gatos != 0)"
   ]
  },
  {
   "cell_type": "code",
   "execution_count": 43,
   "metadata": {},
   "outputs": [
    {
     "name": "stdout",
     "output_type": "stream",
     "text": [
      "True\n"
     ]
    }
   ],
   "source": [
    "#Exercise 31\n",
    "\n",
    "print (pizzas <= piezas < superficie)"
   ]
  },
  {
   "cell_type": "code",
   "execution_count": 32,
   "metadata": {},
   "outputs": [
    {
     "name": "stdout",
     "output_type": "stream",
     "text": [
      "True\n"
     ]
    }
   ],
   "source": [
    "#Exercise 32\n",
    "\n",
    "print (superficie > 0 or superficie < 0)"
   ]
  },
  {
   "cell_type": "code",
   "execution_count": 33,
   "metadata": {},
   "outputs": [],
   "source": [
    "#Exercise 33\n",
    "\n",
    "dia_cumple = input (\"Please enter your birthday\")\n"
   ]
  },
  {
   "cell_type": "code",
   "execution_count": 34,
   "metadata": {},
   "outputs": [],
   "source": [
    "#Exercise 34\n",
    "\n",
    "mes_cumple = input (\"Please enter the month of your birthday\")"
   ]
  },
  {
   "cell_type": "code",
   "execution_count": 35,
   "metadata": {},
   "outputs": [],
   "source": [
    "#Exercise 35\n",
    "\n",
    "dia_cumple = dia_cumple.strip()\n",
    "\n",
    "mes_cumple = mes_cumple.strip()"
   ]
  },
  {
   "cell_type": "code",
   "execution_count": 36,
   "metadata": {},
   "outputs": [],
   "source": [
    "#Exercise 36\n",
    "\n",
    "fecha_cumple = dia_cumple + \"/\" + mes_cumple"
   ]
  },
  {
   "cell_type": "code",
   "execution_count": 37,
   "metadata": {},
   "outputs": [
    {
     "name": "stdout",
     "output_type": "stream",
     "text": [
      "02/06\n"
     ]
    }
   ],
   "source": [
    "#Exercise 37\n",
    "\n",
    "print (fecha_cumple)"
   ]
  },
  {
   "cell_type": "code",
   "execution_count": 38,
   "metadata": {},
   "outputs": [
    {
     "name": "stdout",
     "output_type": "stream",
     "text": [
      "CUATRO\n"
     ]
    }
   ],
   "source": [
    "print (perros.upper())"
   ]
  }
 ],
 "metadata": {
  "colab": {
   "collapsed_sections": [],
   "name": "01-variables-v3.ipynb",
   "provenance": [
    {
     "file_id": "1tXHJR8cKSo08vDdGSAm7rJsLK5DWWU6k",
     "timestamp": 1641196405601
    },
    {
     "file_id": "1nJs_RCWTcl0l6j6i5mHhZveMzPQQGsS6",
     "timestamp": 1639740222910
    }
   ]
  },
  "kernelspec": {
   "display_name": "Python 3 (ipykernel)",
   "language": "python",
   "name": "python3"
  },
  "language_info": {
   "codemirror_mode": {
    "name": "ipython",
    "version": 3
   },
   "file_extension": ".py",
   "mimetype": "text/x-python",
   "name": "python",
   "nbconvert_exporter": "python",
   "pygments_lexer": "ipython3",
   "version": "3.9.12"
  },
  "toc": {
   "base_numbering": 1,
   "nav_menu": {},
   "number_sections": true,
   "sideBar": true,
   "skip_h1_title": false,
   "title_cell": "Table of Contents",
   "title_sidebar": "Contents",
   "toc_cell": true,
   "toc_position": {},
   "toc_section_display": true,
   "toc_window_display": true
  },
  "vscode": {
   "interpreter": {
    "hash": "31f2aee4e71d21fbe5cf8b01ff0e069b9275f58929596ceb00d14d90e3e16cd6"
   }
  }
 },
 "nbformat": 4,
 "nbformat_minor": 1
}
