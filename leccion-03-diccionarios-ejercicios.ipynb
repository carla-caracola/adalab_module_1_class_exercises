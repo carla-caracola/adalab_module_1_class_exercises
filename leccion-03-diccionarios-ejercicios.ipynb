{
 "cells": [
  {
   "cell_type": "markdown",
   "metadata": {
    "id": "5PcBreuKcX1-"
   },
   "source": [
    "\n",
    "\n",
    "---\n",
    "\n",
    "\n",
    "# Ejercicios\n",
    "\n",
    "- Definir diccionarios\n",
    "\n",
    "  1. Crea el diccionario `festivos` con las fechas como claves y los nombres como valores: 01/01: Año Nuevo, 06/01: Epifanía del Señor, 15/04: Viernes Santo, 15/08: Asunción de la Virgen, 12/10: Fiesta Nacional de España, 01/11: Todos los Santos, 06/12: Día de la Constitución Española, y 08/12: Inmaculada Concepción.\n",
    "\n",
    "\n",
    "  2. Crea el diccionario `monarcas` con los países como claves y los nombres como valores: Bélgica: Philippe, Dinamarca: Margrethe II, Holanda: Beatrix, Noruega: Harald V, España: Felipe VI, Reino Unido: Carlos III.\n",
    "\n",
    "- Leer, añadir, y cambiar elementos\n",
    "\n",
    "  3. ¿Qué festivo hay el 15/04?\n",
    "\n",
    "\n",
    "  4. La reina `'Beatrix'` abdicó, ahora es el rey `'Willem-Alexander'`. Actualiza el dict.\n",
    "\n",
    "  \n",
    "  5. El rey de Luxemburgo se llama `Henri`. Añadelo al dict usando `.update()`. \n",
    "\n",
    "- Comprobar contenidos\n",
    "\n",
    "  6. ¿Cuántos países están definidos en `monarcas`?\n",
    "\n",
    "  7. ¿Es `'Monaco'` uno de ellos?\n",
    "\n",
    "  8. ¿Es verdad que nos olvidamos de poner `'Suecia'`? Compruébalo de una manera en que obtengas un `True` o `False`.\n",
    "\n",
    "- Listar los contenidos\n",
    "\n",
    "  9. Saca una **lista** de todos los países en el dict `monarcas`.\n",
    "\n",
    "  10. Saca una **lista** de los nombres de los festivos.\n",
    "\n",
    "  11. Imprime el diccionario de festivos.\n",
    "  \n",
    "  12. Imprime una **lista de tuplas** de todos los elementos que hay en festivos.\n",
    "\n",
    "- Copiar dicts, y borrar elementos\n",
    "\n",
    "  13. Copia `monarcas` a `monarcas2010`.\n",
    "\n",
    "  14. Quita España de `monarcas2010`.\n",
    "\n",
    "  15. Quita el último elemento de `monarcas2010`.\n",
    "\n",
    "- Vaciar y borrar dicts\n",
    "\n",
    "  16. Vacia el dict `monarcas2010`.\n",
    "\n",
    "\n",
    "- Obtener valores\n",
    "\n",
    "  17. ¿Qué festivo hay el 06/01?\n",
    "  \n",
    "  18. Obten el festivo que haya el 08/03, y en su defecto devuélve 'Día Internacional de la Mujer'.\n",
    "\n",
    "  19. Obten el festivo que haya el 31/11, y si no existe crea un par de clave-valor nuevo con el valor de 'Todos los Santos'.\n",
    "\n",
    "---\n",
    "\n"
   ]
  },
  {
   "cell_type": "markdown",
   "metadata": {},
   "source": [
    "## definir diccionarios"
   ]
  },
  {
   "cell_type": "code",
   "execution_count": 12,
   "metadata": {},
   "outputs": [],
   "source": [
    "# Ej 1. diccionario festivos\n",
    "\n",
    "festivos = {\"01/01\": \"Año Nuevo\", \"06/01\": \"Epifanía del Señor\", \"15/04\": \"Viernes Santo\", \"15/08\": \"Asunción de la Virgen\", \"12/10\": \"Fiesta Nacional de España\", \"01/11\": \"Todos los Santos\", \"06/12\": \"Día de la Constitución Española\", \"08/12\": \"Inmaculada Concepción\"}\n",
    "\n",
    "\n",
    "# Ej 2. diccionario monarcas\n",
    "\n",
    "monarcas = {\"Bélgica\": \"Philippe\", \"Dinamarca\": \"Margrethe II\", \"Holanda\": \"Beatrix\", \"Noruega\": \"Harald V\", \"España\": \"Felipe VI\", \"Reino Unido\": \"Carlos III\"}\n",
    "\n"
   ]
  },
  {
   "cell_type": "markdown",
   "metadata": {},
   "source": [
    "## leer, añadir y cambiar elementos"
   ]
  },
  {
   "cell_type": "code",
   "execution_count": 11,
   "metadata": {},
   "outputs": [
    {
     "name": "stdout",
     "output_type": "stream",
     "text": [
      "Viernes Santo\n",
      "Williem-Alexander\n",
      "Henri\n"
     ]
    }
   ],
   "source": [
    "# Ej 3. \n",
    "\n",
    "print (festivos [\"15/04\"])\n",
    "\n",
    "# Ej 4. \n",
    "\n",
    "monarcas [\"Holanda\"] = \"Williem-Alexander\"\n",
    "\n",
    "print (monarcas [\"Holanda\"])\n",
    "\n",
    "monarcas.update({\"Luxemburgo\":\"Henri\"})\n",
    "\n",
    "print(monarcas[\"Luxemburgo\"])\n"
   ]
  },
  {
   "cell_type": "markdown",
   "metadata": {},
   "source": [
    "## comprobar contenidos"
   ]
  },
  {
   "cell_type": "code",
   "execution_count": 16,
   "metadata": {},
   "outputs": [
    {
     "name": "stdout",
     "output_type": "stream",
     "text": [
      "6\n",
      "False\n",
      "True\n"
     ]
    }
   ],
   "source": [
    "# Ej 6.\n",
    "\n",
    "print (len(monarcas))\n",
    "\n",
    "#Ej 7.\n",
    "\n",
    "print (\"Monaco\" in monarcas)\n",
    "\n",
    "#Ej 8. \n",
    "\n",
    "print (\"Suecia\" not in monarcas)\n"
   ]
  },
  {
   "cell_type": "markdown",
   "metadata": {},
   "source": [
    "## listar contenidos"
   ]
  },
  {
   "cell_type": "code",
   "execution_count": 21,
   "metadata": {},
   "outputs": [
    {
     "name": "stdout",
     "output_type": "stream",
     "text": [
      "dict_keys(['Bélgica', 'Dinamarca', 'Holanda', 'Noruega', 'España', 'Reino Unido'])\n",
      "dict_keys(['01/01', '06/01', '15/04', '15/08', '12/10', '01/11', '06/12', '08/12'])\n",
      "{'01/01': 'Año Nuevo', '06/01': 'Epifanía del Señor', '15/04': 'Viernes Santo', '15/08': 'Asunción de la Virgen', '12/10': 'Fiesta Nacional de España', '01/11': 'Todos los Santos', '06/12': 'Día de la Constitución Española', '08/12': 'Inmaculada Concepción'}\n",
      "('01/01', '06/01', '15/04', '15/08', '12/10', '01/11', '06/12', '08/12')\n"
     ]
    }
   ],
   "source": [
    "# Ej 9. \n",
    "\n",
    "print (monarcas.keys())\n",
    "\n",
    "# Ej 10. \n",
    "\n",
    "print (festivos.keys())\n",
    "\n",
    "# Ej 11.\n",
    "print (festivos)\n",
    "\n",
    "# Ej 12. Revisar por qué no se imprimen los nombres de los festivos\n",
    "\n",
    "print (tuple(festivos)) \n",
    "\n",
    "\n"
   ]
  }
 ],
 "metadata": {
  "kernelspec": {
   "display_name": "Python 3 (ipykernel)",
   "language": "python",
   "name": "python3"
  },
  "language_info": {
   "codemirror_mode": {
    "name": "ipython",
    "version": 3
   },
   "file_extension": ".py",
   "mimetype": "text/x-python",
   "name": "python",
   "nbconvert_exporter": "python",
   "pygments_lexer": "ipython3",
   "version": "3.9.12"
  },
  "toc": {
   "base_numbering": 1,
   "nav_menu": {},
   "number_sections": true,
   "sideBar": true,
   "skip_h1_title": false,
   "title_cell": "Table of Contents",
   "title_sidebar": "Contents",
   "toc_cell": true,
   "toc_position": {
    "height": "calc(100% - 180px)",
    "left": "10px",
    "top": "150px",
    "width": "307.2px"
   },
   "toc_section_display": true,
   "toc_window_display": true
  },
  "vscode": {
   "interpreter": {
    "hash": "31f2aee4e71d21fbe5cf8b01ff0e069b9275f58929596ceb00d14d90e3e16cd6"
   }
  }
 },
 "nbformat": 4,
 "nbformat_minor": 2
}
