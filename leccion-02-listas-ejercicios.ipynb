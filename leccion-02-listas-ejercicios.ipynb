{
 "cells": [
  {
   "cell_type": "markdown",
   "metadata": {
    "id": "5PcBreuKcX1-"
   },
   "source": [
    "\n",
    "\n",
    "---\n",
    "\n",
    "\n",
    "# Ejercicios listas:\n",
    "\n",
    "- Definir listas\n",
    "\n",
    "  1. Haz una lista llamada `colores` donde almacenemos los primeros 6 colores que te vengan a la mente.\n",
    "\n",
    "  2. Haz una lista llamada `buses` de las líneas de autobuses que pasan por tu casa.\n",
    "\n",
    "  3. Apunta la previsión de temperaturas máximas para todos los días de esta semana en `temperaturas`.\n",
    "\n",
    "\n",
    "\n",
    "- Convertir a listas\n",
    "\n",
    "  4. Convierte tu(s) nombre(s) a una lista `nombres` de caracteres.\n",
    "  \n",
    "  5. Convierte tu(s) apellido(s) a una lista `apellidos` de caracteres.\n",
    "\n",
    "\n",
    "- Usar `len()`, `min()`, y `max()`\n",
    "\n",
    "  6. ¿Cuántos búses pasan por tu casa?\n",
    "\n",
    "  7. ¿Cuántos caracteres hay en tu apellido(s) (inluyendo los espacios)?\n",
    "\n",
    "  8. ¿Cuáles son las temperaturas máximas (`t_max`) y mínimas (`t_min`) para esta semana?\n",
    "\n",
    "- Usar `in`, `not in`\n",
    "\n",
    "  9. Hay una 'e' en tu nombre?\n",
    "\n",
    "  10. Tienes el color 'rosa' en la lista de colores?\n",
    "  \n",
    "  11. ¿Tiene una 'x' tu nombre? (Usa `not in`)\n",
    "\n",
    "\n",
    "\n",
    "- Hacer copias y borrar sus contenidos\n",
    "\n",
    "  12. Copia el contenido de `temperaturas` a `temperaturas2`, y `temperaturas3`.\n",
    "\n",
    "  13. Vacía el contenido de la variable `temperaturas2`\n",
    "\n",
    "  14. Imprime el contenido de `temperaturas` y `temperaturas2`.\n",
    "\n",
    "  15. Copia el contenido de `nombres` a `nombres2`.\n",
    "\n",
    "  16. Copia el contenido de `apellidos` a `apellidos2`.\n",
    "\n",
    "- Cambiar el orden de los contenidos\n",
    "\n",
    "  17. Ordena la variable `temperaturas3` de mayor a menor.\n",
    "\n",
    "  18. Ordena los caracteres de tu nombre y tu apellido en las listas `nombres2` y `apellidos2`. Imprime el resultado y investiga: ¿qué orden ha cogido? ¿Cómo trata las mayúsculas?\n",
    "\n",
    "- Contar duplicados\n",
    "\n",
    "  19. ¿Cuántas 'a' tiene tu nombre? ¿Y cuántas 'o'?\n",
    "\n",
    "  20. Verifica si los resultados de ejercicio 19 son iguales para la lista `nombres2`.\n",
    "\n",
    "  21. ¿Cuántas veces esta semana llega la temperatura a la `t_max`? ¿Y cuántas a la `t_min`?\n",
    "\n",
    "\n",
    "\n",
    "- Definir otra lista\n",
    "\n",
    "  22. La lista dias_en contiene 'monday', 'tuesday', 'wednesday', 'thursday', 'friday', 'saturday', y 'sunday'.\n",
    "\n",
    "  23. Define temperaturas_diciembre 👇🏽:\n",
    "    ```python\n",
    "\n",
    "      temperaturas_diciembre = [10, 10, 13, 14, 12, 15, \n",
    "                            12, 11, 13, 17, 18, 15, \n",
    "                            15, 17, 17, 13, 13, 11,\n",
    "                            12, 10, 12, 14, 12, 12,\n",
    "                            11, 12, 16, 16, 14, 17, 18]\n",
    "\n",
    "    ```\n",
    "- Indexación de listas\n",
    "\n",
    "  24. ¿Cuál es el penúltimo día de la semana?\n",
    "\n",
    "  25. ¿Cuál es el último elemento de la lista de temperaturas de diciembre? \n",
    "\n",
    "  27. ¿Está 'friday' en la lista de días en inglés? Si está, ¿dónde?\n",
    "\n",
    "  28. ¿Cuál era la temperatura máxima en diciembre?\n",
    "\n",
    "  29. Encuentra el índice de 'miércoles' en dias_es.\n",
    "\n",
    "- Bonus\n",
    "\n",
    "  30. Imprime esta frase en pantalla: 'La temperatura máxima esta semana será 14 ºC, que ocurrirá en 1 días(s). El día más frío tendrá una temperatura máxima de 10 ºC, que ocurrirá en 2 día(s).'\n",
    "---\n",
    "\n"
   ]
  },
  {
   "cell_type": "markdown",
   "metadata": {},
   "source": [
    "# definir listas"
   ]
  },
  {
   "cell_type": "code",
   "execution_count": 12,
   "metadata": {},
   "outputs": [],
   "source": [
    "\n",
    "colores = [\"rojo\", \"amarillo\", \"verde\", \"azul\", \"violeta\", \"naranja\"]\n",
    "\n",
    "buses = [\"l1\", \"l2\", \"l3\", \"l4\", \"l5\"]\n",
    "\n",
    "temp_max = [27, 30, 29, 30, 26, 27, 28]\n",
    "\n"
   ]
  },
  {
   "cell_type": "markdown",
   "metadata": {},
   "source": [
    "\n",
    "# convertir a listas"
   ]
  },
  {
   "cell_type": "code",
   "execution_count": 14,
   "metadata": {
    "id": "Z5I4yJpqcX2F"
   },
   "outputs": [
    {
     "name": "stdout",
     "output_type": "stream",
     "text": [
      "['C', 'a', 'r', 'l', 'a']\n",
      "['B', 'i', 's', 'c', 'o', 't', 't', 'i']\n"
     ]
    }
   ],
   "source": [
    "\n",
    "\n",
    "mi_nombre = \"Carla\"\n",
    "\n",
    "nombres = list (mi_nombre)\n",
    "\n",
    "print(nombres)\n",
    "\n",
    "apellidos = list (\"Biscotti\")\n",
    "\n",
    "print (apellidos)\n"
   ]
  },
  {
   "cell_type": "markdown",
   "metadata": {},
   "source": [
    "# usar len (), min (), max ()"
   ]
  },
  {
   "cell_type": "code",
   "execution_count": 13,
   "metadata": {},
   "outputs": [
    {
     "name": "stdout",
     "output_type": "stream",
     "text": [
      "Por mi casa pasan 5 buses\n",
      "Mi apellido tiene 8 caracteres\n",
      "Está semana hará un máximo de 30 y un mínimo de 26\n"
     ]
    }
   ],
   "source": [
    "\n",
    "\n",
    "print (\"Por mi casa pasan\", len(buses), \"buses\")\n",
    "\n",
    "print (\"Mi apellido tiene\", len(apellidos), \"caracteres\")\n",
    "\n",
    "print (\"Está semana hará un máximo de\", max(temp_max), \"y un mínimo de\", min(temp_max))"
   ]
  },
  {
   "cell_type": "markdown",
   "metadata": {},
   "source": [
    "# usar in y not in"
   ]
  },
  {
   "cell_type": "code",
   "execution_count": 15,
   "metadata": {},
   "outputs": [
    {
     "name": "stdout",
     "output_type": "stream",
     "text": [
      "False\n",
      "False\n",
      "True\n"
     ]
    }
   ],
   "source": [
    "print (\"e\" in nombres)\n",
    "\n",
    "print (\"rosa\" in colores)\n",
    "\n",
    "print (\"x\" not in mi_nombre)"
   ]
  },
  {
   "cell_type": "markdown",
   "metadata": {},
   "source": [
    "# hacer copias y borrar sus contenidos"
   ]
  },
  {
   "cell_type": "code",
   "execution_count": 18,
   "metadata": {},
   "outputs": [
    {
     "name": "stdout",
     "output_type": "stream",
     "text": [
      "[27, 30, 29, 30, 26, 27, 28] [] [27, 30, 29, 30, 26, 27, 28]\n"
     ]
    }
   ],
   "source": [
    "temp_max_2 = temp_max.copy()\n",
    "\n",
    "temp_max_3 = temp_max.copy()\n",
    "\n",
    "temp_max_2.clear()\n",
    "\n",
    "print (temp_max, temp_max_2, temp_max_3)\n",
    "\n",
    "nombres2 = nombres.copy()\n",
    "\n",
    "apellidos2 = apellidos.copy()\n"
   ]
  },
  {
   "cell_type": "markdown",
   "metadata": {},
   "source": [
    "# cambiar el orden de los contenidos"
   ]
  },
  {
   "cell_type": "code",
   "execution_count": 20,
   "metadata": {},
   "outputs": [
    {
     "name": "stdout",
     "output_type": "stream",
     "text": [
      "[26, 27, 27, 28, 29, 30, 30]\n",
      "[30, 30, 29, 28, 27, 27, 26]\n"
     ]
    }
   ],
   "source": [
    "print (temp_max_3)\n",
    "\n",
    "temp_max_3.sort(reverse=True)\n",
    "\n",
    "print (temp_max_3)"
   ]
  },
  {
   "cell_type": "markdown",
   "metadata": {},
   "source": [
    "# contar duplicados"
   ]
  },
  {
   "cell_type": "code",
   "execution_count": 36,
   "metadata": {},
   "outputs": [
    {
     "name": "stdout",
     "output_type": "stream",
     "text": [
      "Mi nombre tiene 2 letras 'a'\n",
      "True\n",
      "La temperatura máxima, 30 grados, se alcanzará 2 veces en la semana\n",
      "La temperatura mínima, 26 grados, se alcanzará 1 veces en la semana\n"
     ]
    }
   ],
   "source": [
    "print (\"Mi nombre tiene\", nombres.count(\"a\"), \"letras 'a'\")\n",
    "\n",
    "print (nombres.count(\"a\") == nombres2.count(\"a\"))\n",
    "\n",
    "print (\"La temperatura máxima,\", max(temp_max),\"grados, se alcanzará\", temp_max.count(max(temp_max)), \"veces en la semana\") \n",
    "\n",
    "print (\"La temperatura mínima,\", min(temp_max),\"grados, se alcanzará\", temp_max.count(min(temp_max)), \"veces en la semana\") \n",
    "\n",
    "\n"
   ]
  },
  {
   "cell_type": "markdown",
   "metadata": {},
   "source": [
    "# definir otra lista"
   ]
  },
  {
   "cell_type": "code",
   "execution_count": 39,
   "metadata": {},
   "outputs": [
    {
     "name": "stdout",
     "output_type": "stream",
     "text": [
      "['monday', 'tuesday', 'wednesday', 'thursday', 'friday', 'saturday', 'sunday']\n",
      "[10, 10, 13, 14, 12, 15, 12, 11, 13, 17, 18, 15, 15, 17, 17, 13, 13, 11, 12, 10, 12, 14, 12, 12, 11, 12, 16, 16, 14, 17, 18]\n"
     ]
    }
   ],
   "source": [
    "días_en = ['monday', 'tuesday', 'wednesday', 'thursday', 'friday', 'saturday', 'sunday']\n",
    "print(días_en)\n",
    "\n",
    "temperaturas_diciembre = [10, 10, 13, 14, 12, 15, \n",
    "                            12, 11, 13, 17, 18, 15, \n",
    "                            15, 17, 17, 13, 13, 11,\n",
    "                            12, 10, 12, 14, 12, 12,\n",
    "                            11, 12, 16, 16, 14, 17, 18]\n",
    "\n",
    "print (temperaturas_diciembre)\n",
    "\n"
   ]
  },
  {
   "cell_type": "markdown",
   "metadata": {},
   "source": [
    "# indexación de listas"
   ]
  },
  {
   "cell_type": "code",
   "execution_count": 51,
   "metadata": {},
   "outputs": [
    {
     "name": "stdout",
     "output_type": "stream",
     "text": [
      "El penúltimo día de la semana es saturday\n",
      "El último elemento de la lista de temp en diciembre es 18\n",
      "Friday is not in the list.\n",
      "La temperatura máxima en Diciembre será 18 grados.\n",
      "False\n"
     ]
    }
   ],
   "source": [
    "print (\"El penúltimo día de la semana es\", días_en [-2])\n",
    "\n",
    "print (\"El último elemento de la lista de temp en diciembre es\", temperaturas_diciembre[-1])\n",
    "\n",
    "if \"friday\" in días_en:\n",
    "    print (\"Friday ocupa la posición\", días_en.index(\"friday\"), \"en la lista.\")\n",
    "else:\n",
    "    print (\"Friday is not in the list.\")\n",
    "\n",
    "\n",
    "print (\"La temperatura máxima en Diciembre será\", max(temperaturas_diciembre),\"grados.\")\n",
    "\n",
    "print (\"miércoles\" in días_en)\n",
    "\n",
    "\n"
   ]
  },
  {
   "cell_type": "markdown",
   "metadata": {},
   "source": [
    "# bonus"
   ]
  },
  {
   "cell_type": "code",
   "execution_count": 61,
   "metadata": {},
   "outputs": [
    {
     "name": "stdout",
     "output_type": "stream",
     "text": [
      "La temperatura máxima esta semana será 15 grados y ocurrirá en 5 días\n"
     ]
    }
   ],
   "source": [
    "\n",
    "temperaturas_primera_semana = temperaturas_diciembre [0:7]\n",
    "\n",
    "print(\"La temperatura máxima esta semana será\", max(temperaturas_primera_semana),\"grados y ocurrirá en\", temperaturas_primera_semana.index(max(temperaturas_primera_semana)),\"días\")\n",
    "\n",
    "\n"
   ]
  }
 ],
 "metadata": {
  "interpreter": {
   "hash": "8560ba40f25f8debc3b21cfdc72602d7855270eb253b25380125fbd9b6cd3418"
  },
  "kernelspec": {
   "display_name": "Python 3 (ipykernel)",
   "language": "python",
   "name": "python3"
  },
  "language_info": {
   "codemirror_mode": {
    "name": "ipython",
    "version": 3
   },
   "file_extension": ".py",
   "mimetype": "text/x-python",
   "name": "python",
   "nbconvert_exporter": "python",
   "pygments_lexer": "ipython3",
   "version": "3.9.12"
  },
  "toc": {
   "base_numbering": 1,
   "nav_menu": {},
   "number_sections": true,
   "sideBar": true,
   "skip_h1_title": false,
   "title_cell": "Table of Contents",
   "title_sidebar": "Contents",
   "toc_cell": true,
   "toc_position": {},
   "toc_section_display": true,
   "toc_window_display": true
  }
 },
 "nbformat": 4,
 "nbformat_minor": 2
}
